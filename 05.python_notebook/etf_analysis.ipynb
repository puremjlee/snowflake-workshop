{
 "metadata": {
  "kernelspec": {
   "display_name": "Streamlit Notebook",
   "name": "streamlit"
  },
  "lastEditStatus": {
   "notebookId": "zirf3dhdjyk54tegid5a",
   "authorId": "3103472059269",
   "authorName": "MJLEE",
   "authorEmail": "mj.lee@snowflake.com",
   "sessionId": "488933f7-c4aa-421d-a89e-89b777d2f9c8",
   "lastEditTime": 1759033945657
  }
 },
 "nbformat_minor": 5,
 "nbformat": 4,
 "cells": [
  {
   "cell_type": "markdown",
   "id": "de95a495-f12c-4aaf-99f9-83ea607e9c34",
   "metadata": {
    "name": "cell8",
    "collapsed": false
   },
   "source": "## Python Pandas Dataframe"
  },
  {
   "cell_type": "code",
   "id": "3775908f-ca36-4846-8f38-5adca39217f2",
   "metadata": {
    "language": "python",
    "name": "cell1"
   },
   "source": "import streamlit as st\nimport pandas as pd \nfrom snowflake.snowpark.functions import col, count, sum, avg, round\nimport plotly.express as px\n\nfrom snowflake.snowpark.context import get_active_session\nsession = get_active_session()",
   "execution_count": null,
   "outputs": []
  },
  {
   "cell_type": "code",
   "id": "af30a3f0-114c-498f-96ea-bfe42915cdd1",
   "metadata": {
    "language": "python",
    "name": "cell4"
   },
   "outputs": [],
   "source": "session.sql(\"use database demo\").collect()\nsession.sql(\"use schema magi_handson\").collect()\ndf = session.table(\"market_info\").to_pandas()\ndf.head(10)",
   "execution_count": null
  },
  {
   "cell_type": "code",
   "id": "06206a34-d5ef-4435-b9d6-09e33949268c",
   "metadata": {
    "language": "python",
    "name": "cell5"
   },
   "outputs": [],
   "source": "df.info()",
   "execution_count": null
  },
  {
   "cell_type": "code",
   "id": "58648c89-f3a0-4544-996d-88522bfb4294",
   "metadata": {
    "language": "python",
    "name": "cell2"
   },
   "outputs": [],
   "source": "st.subheader(\"시가총액 상위 5개 ETF\")\n\ndf['MKCAP_TRILLION'] = df['MKCAP']/1e12\ntop_5 = df.nlargest(5, 'MKCAP')[['BASE_DT', 'ITEM_NM_KOR', 'MKCAP_TRILLION', 'BASE_IDX_NM']]\ntop_5    ",
   "execution_count": null
  },
  {
   "cell_type": "code",
   "id": "21237773-c6ad-4951-bf18-04c15a19594a",
   "metadata": {
    "language": "python",
    "name": "cell3"
   },
   "outputs": [],
   "source": "st.subheader(\"시가총액 분포\")\nfig_hist = px.histogram(df, x='MKCAP', nbins=10, \n                       title='시가총액 분포',\n                       labels={'MKCAP': '시가총액 (원)', 'count': '빈도'})\nst.plotly_chart(fig_hist, use_container_width=True)",
   "execution_count": null
  },
  {
   "cell_type": "code",
   "id": "036dac83-a1c7-4251-a845-0a1547ef6f53",
   "metadata": {
    "language": "python",
    "name": "cell6"
   },
   "outputs": [],
   "source": "# 매수/매도 금액을 억원 단위로 변환\ndf['BUY_AMT_BILLION'] = df['SUM_BUY_AMT'] / 1e8\ndf['SEL_AMT_BILLION'] = df['SUM_SEL_AMT'] / 1e8\ndf['NET_FLOW'] = df['SUM_BUY_AMT'] - df['SUM_SEL_AMT']\ndf['NET_FLOW_BILLION'] = df['NET_FLOW'] / 1e8\n\n# 매수금액 상위 ETF\nst.subheader(\"매수금액 상위 5개 ETF\")\ntop_buy = df.nlargest(5, 'SUM_BUY_AMT')[['BASE_DT', 'ITEM_NM_KOR', 'BUY_AMT_BILLION']]\ntop_buy",
   "execution_count": null
  },
  {
   "cell_type": "code",
   "id": "4bb9173e-2829-465e-a503-ba59732d2686",
   "metadata": {
    "language": "python",
    "name": "cell7"
   },
   "outputs": [],
   "source": "st.header(\"기준지수별 분석\")\n    \n# 기준지수별 그룹화 분석\nindex_summary = df.groupby('BASE_IDX_NM').agg({\n    'MKCAP': ['count', 'sum', 'mean'],\n    'SUM_BUY_AMT': ['sum', 'mean'],\n    'SUM_SEL_AMT': ['sum', 'mean']\n}).round(2)\n\nindex_summary",
   "execution_count": null
  },
  {
   "cell_type": "markdown",
   "id": "4d11ef83-88e7-4c9f-b67d-2b429d016ce8",
   "metadata": {
    "name": "cell9",
    "collapsed": false
   },
   "source": "## Snowpark Pandas Dataframe "
  },
  {
   "cell_type": "code",
   "id": "7683ea7b-7b7e-46d8-a402-2f2163ca79a1",
   "metadata": {
    "language": "python",
    "name": "snowpark_pandas"
   },
   "outputs": [],
   "source": "import modin.pandas as sfpd\nimport snowflake.snowpark.modin.plugin\n",
   "execution_count": null
  },
  {
   "cell_type": "code",
   "id": "a682dfd7-ddb4-4c9f-8075-6382e7918516",
   "metadata": {
    "language": "python",
    "name": "cell27"
   },
   "outputs": [],
   "source": "sfpd = sfpd.read_snowflake('snowflake_sample_data.tpch_sf1.nation')\nsfpd.describe",
   "execution_count": null
  },
  {
   "cell_type": "code",
   "id": "c53c7db6-f10a-4b13-85d1-ec94f7cf2c66",
   "metadata": {
    "language": "python",
    "name": "cell29"
   },
   "outputs": [],
   "source": "sfpd.loc[sfpd[\"N_NAME\"]==\"UNITED STATES\",\"N_NAME\"]='USA'\nsfpd",
   "execution_count": null
  },
  {
   "cell_type": "code",
   "id": "5c8de724-c457-4b96-ac5e-b41dcf60c9dc",
   "metadata": {
    "language": "sql",
    "name": "cell28"
   },
   "outputs": [],
   "source": "select * from snowflake_sample_data.tpch_sf1.nation;",
   "execution_count": null
  },
  {
   "cell_type": "code",
   "id": "18dfc9e1-8d4c-40f9-baef-f48bd60f85f8",
   "metadata": {
    "language": "python",
    "name": "cell11"
   },
   "outputs": [],
   "source": "session.sql(\"use database demo\").collect()\nsession.sql(\"use schema magi_handson\").collect()\nsfpd_df = session.table(\"market_info\").to_snowpark_pandas()\nsfpd_df.head(10)",
   "execution_count": null
  },
  {
   "cell_type": "code",
   "id": "ba6559de-b897-4667-afe9-60a16fdec998",
   "metadata": {
    "language": "python",
    "name": "cell12"
   },
   "outputs": [],
   "source": "sfpd_df.info()",
   "execution_count": null
  },
  {
   "cell_type": "code",
   "id": "86ec78c1-ae18-4bce-9390-95a04a2fd478",
   "metadata": {
    "language": "python",
    "name": "cell13"
   },
   "outputs": [],
   "source": "st.subheader(\"시가총액 상위 5개 ETF\")\n\nsfpd_df['MKCAP_TRILLION'] = sfpd_df['MKCAP']/1e12\ntop_5 = sfpd_df.nlargest(5, 'MKCAP')[['BASE_DT', 'ITEM_NM_KOR', 'MKCAP_TRILLION', 'BASE_IDX_NM']]\ntop_5    ",
   "execution_count": null
  },
  {
   "cell_type": "code",
   "id": "03f6b607-03b7-4559-b6ef-1b79109cf97a",
   "metadata": {
    "language": "python",
    "name": "cell14"
   },
   "outputs": [],
   "source": "st.subheader(\"시가총액 분포\")\nfig_hist2 = px.histogram(sfpd_df, x='MKCAP', nbins=10, \n                       title='시가총액 분포',\n                       labels={'MKCAP': '시가총액 (원)', 'count': '빈도'})\nst.plotly_chart(fig_hist2, use_container_width=True)",
   "execution_count": null
  },
  {
   "cell_type": "code",
   "id": "99ce5f7f-df66-4bef-adc8-b6f9f17a0645",
   "metadata": {
    "language": "python",
    "name": "cell15"
   },
   "outputs": [],
   "source": "# 매수/매도 금액을 억원 단위로 변환\nsfpd_df['BUY_AMT_BILLION'] = sfpd_df['SUM_BUY_AMT'] / 1e8\nsfpd_df['SEL_AMT_BILLION'] = sfpd_df['SUM_SEL_AMT'] / 1e8\nsfpd_df['NET_FLOW'] = sfpd_df['SUM_BUY_AMT'] - sfpd_df['SUM_SEL_AMT']\nsfpd_df['NET_FLOW_BILLION'] = sfpd_df['NET_FLOW'] / 1e8\n\n# 매수금액 상위 ETF\nst.subheader(\"매수금액 상위 5개 ETF\")\ntop_buy = sfpd_df.nlargest(5, 'SUM_BUY_AMT')[['BASE_DT', 'ITEM_NM_KOR', 'BUY_AMT_BILLION']]\ntop_buy",
   "execution_count": null
  },
  {
   "cell_type": "code",
   "id": "3a7463d6-af59-45d8-9719-bdc38ffb8ad3",
   "metadata": {
    "language": "python",
    "name": "cell16"
   },
   "outputs": [],
   "source": "st.header(\"기준지수별 분석\")\n    \n# 기준지수별 그룹화 분석\nindex_summary = sfpd_df.groupby('BASE_IDX_NM').agg({\n    'MKCAP': ['count', 'sum', 'mean'],\n    'SUM_BUY_AMT': ['sum', 'mean'],\n    'SUM_SEL_AMT': ['sum', 'mean']\n}).round(2)\n\nindex_summary",
   "execution_count": null
  },
  {
   "cell_type": "markdown",
   "id": "2486e87a-bf8d-4f3a-87cb-50f6403787c0",
   "metadata": {
    "name": "cell17"
   },
   "source": "## Snowpark Dataframe "
  },
  {
   "cell_type": "code",
   "id": "0a895a39-96f0-40eb-8f1c-a2141d707c55",
   "metadata": {
    "language": "python",
    "name": "cell18"
   },
   "outputs": [],
   "source": "session.sql(\"use database demo\").collect()\nsession.sql(\"use schema magi_handson\").collect()\nsnowpark_df = session.table(\"market_info\")\nsnowpark_df.limit(10)",
   "execution_count": null
  },
  {
   "cell_type": "code",
   "id": "45ef7a07-4551-4071-9afc-da8de9a9194d",
   "metadata": {
    "language": "python",
    "name": "cell19"
   },
   "outputs": [],
   "source": "snowpark_df.describe",
   "execution_count": null
  },
  {
   "cell_type": "code",
   "id": "b66a91c6-4d78-4ca8-9283-e680a96626ad",
   "metadata": {
    "language": "python",
    "name": "cell20"
   },
   "outputs": [],
   "source": "st.subheader(\"시가총액 상위 5개 ETF\")\ntop_5_snowpark = (snowpark_df\n        .with_column(\"MKCAP_TRILLION\", col(\"MKCAP\") / 1e12)\n        .order_by(col(\"MKCAP\").desc())\n        .limit(5)\n        .select(\"BASE_DT\", \"ITEM_NM_KOR\", \"MKCAP_TRILLION\", \"BASE_IDX_NM\")\n)\ntop_5_snowpark",
   "execution_count": null
  },
  {
   "cell_type": "code",
   "id": "78cd6d46-f644-4d63-a9a4-223fcd748118",
   "metadata": {
    "language": "python",
    "name": "cell21"
   },
   "outputs": [],
   "source": "st.subheader(\"시가총액 분포\")\nfig_hist3 = px.histogram(snowpark_df, x='MKCAP', nbins=10, \n                       title='시가총액 분포',\n                       labels={'MKCAP': '시가총액 (조원)', 'count': '빈도'})\nst.plotly_chart(fig_hist3, use_container_width=True)",
   "execution_count": null
  },
  {
   "cell_type": "code",
   "id": "8749810d-075e-492e-8610-62f8c75fd207",
   "metadata": {
    "language": "python",
    "name": "cell22"
   },
   "outputs": [],
   "source": "st.subheader(\"매수금액 상위 5개 ETF\")\ndf_with_calculations = (snowpark_df\n        .with_column(\"BUY_AMT_BILLION\", col(\"SUM_BUY_AMT\") / 1e8)\n        .with_column(\"SEL_AMT_BILLION\", col(\"SUM_SEL_AMT\") / 1e8)\n        .with_column(\"NET_FLOW\", col(\"SUM_BUY_AMT\") - col(\"SUM_SEL_AMT\"))\n        .with_column(\"NET_FLOW_BILLION\", col(\"NET_FLOW\") / 1e8)\n    )\n    \n# 매수금액 상위 5개 ETF\ntop_buy_snowpark = (df_with_calculations\n    .order_by(col(\"SUM_BUY_AMT\").desc())\n    .limit(5)\n    .select(\"BASE_DT\", \"ITEM_NM_KOR\", \"BUY_AMT_BILLION\")\n)\n\ntop_buy_snowpark",
   "execution_count": null
  },
  {
   "cell_type": "code",
   "id": "747fab0a-631f-469c-91ef-7ffe2bbffb6f",
   "metadata": {
    "language": "python",
    "name": "cell23"
   },
   "outputs": [],
   "source": "st.header(\"기준지수별 분석\")\n\nindex_summary = (snowpark_df\n    .group_by(\"BASE_IDX_NM\")\n    .agg(\n        count(col(\"MKCAP\")).alias(\"MKCAP_count\"),\n        sum(col(\"MKCAP\")).alias(\"MKCAP_sum\"),\n        avg(col(\"MKCAP\")).alias(\"MKCAP_mean\"),\n        sum(col(\"SUM_BUY_AMT\")).alias(\"BUY_sum\"),\n        avg(col(\"SUM_BUY_AMT\")).alias(\"BUY_mean\"),\n        sum(col(\"SUM_SEL_AMT\")).alias(\"SEL_sum\"),\n        avg(col(\"SUM_SEL_AMT\")).alias(\"SEL_mean\")\n    )\n    .select(\n        col(\"BASE_IDX_NM\"),\n        round(col(\"MKCAP_count\"), 2).alias(\"MKCAP_count\"),\n        round(col(\"MKCAP_sum\"), 2).alias(\"MKCAP_sum\"),\n        round(col(\"MKCAP_mean\"), 2).alias(\"MKCAP_mean\"),\n        round(col(\"BUY_sum\"), 2).alias(\"BUY_sum\"),\n        round(col(\"BUY_mean\"), 2).alias(\"BUY_mean\"),\n        round(col(\"SEL_sum\"), 2).alias(\"SEL_sum\"),\n        round(col(\"SEL_mean\"), 2).alias(\"SEL_mean\")\n    )\n)\n\nindex_summary",
   "execution_count": null
  },
  {
   "cell_type": "markdown",
   "id": "2b54d090-9e1c-4189-a051-afffe9f8ce21",
   "metadata": {
    "name": "cell26",
    "collapsed": false
   },
   "source": "## 성능 비교  - Native Pandas"
  },
  {
   "cell_type": "code",
   "id": "60c363af-2ee6-4166-b1cf-7c01625484aa",
   "metadata": {
    "language": "python",
    "name": "cell24"
   },
   "outputs": [],
   "source": "# pd_df = session.table(\"snowflake_sample_data.tpch_sf100.orders\").to_pandas()\npd_df = session.table(\"snowflake_sample_data.tpch_sf10.orders\").to_pandas()\n\npd_df_sales = pd_df.groupby('O_CUSTKEY').agg({\n    'O_TOTALPRICE': ['count', 'sum', 'mean'],\n}).round(2)\n\npd_df_sales.head(10)",
   "execution_count": null
  },
  {
   "cell_type": "markdown",
   "id": "dc21e467-c533-44b5-8421-f95891ea401d",
   "metadata": {
    "name": "cell31",
    "collapsed": false
   },
   "source": "## 성능 비교  - Snowpark Pandas"
  },
  {
   "cell_type": "code",
   "id": "9960376f-6ca0-40d6-ad87-e1a8beb621c9",
   "metadata": {
    "language": "python",
    "name": "cell25"
   },
   "outputs": [],
   "source": "# sfpd_df = session.table(\"snowflake_sample_data.tpch_sf100.orders\").to_snowpark_pandas()\nsfpd_df = session.table(\"snowflake_sample_data.tpch_sf10.orders\").to_snowpark_pandas()\n\nsfpd_df_sales = sfpd_df.groupby('O_CUSTKEY').agg({\n    'O_TOTALPRICE': ['count', 'sum', 'mean'],\n}).round(2)\n\nsfpd_df_sales.head(10)",
   "execution_count": null
  },
  {
   "cell_type": "markdown",
   "id": "a7f06005-357d-43a3-879b-9fe4b2a2ed94",
   "metadata": {
    "name": "cell32",
    "collapsed": false
   },
   "source": "## 성능 비교  - Snowpark Dataframe"
  },
  {
   "cell_type": "code",
   "id": "a7543a93-782a-4542-a668-9e138d713030",
   "metadata": {
    "language": "python",
    "name": "cell10"
   },
   "outputs": [],
   "source": "# sf_df = session.table(\"snowflake_sample_data.tpch_sf100.orders\")\nsf_df = session.table(\"snowflake_sample_data.tpch_sf10.orders\")\n\nsf_df_sales = sf_df.group_by('O_CUSTKEY').agg(\n    count(col(\"O_TOTALPRICE\")).alias(\"O_TOTALPRICE_count\"),\n    sum(col(\"O_TOTALPRICE\")).alias(\"O_TOTALPRICE_sum\"),\n    avg(col(\"O_TOTALPRICE\")).alias(\"O_TOTALPRICE_mean\")\n)\n\nsf_df_sales.limit(10)",
   "execution_count": null
  },
  {
   "cell_type": "markdown",
   "id": "e4be31b8-c0de-47ed-87c2-05a8c6160940",
   "metadata": {
    "name": "cell30",
    "collapsed": false
   },
   "source": "### Using pandas on Snowflake with Snowpark DataFrames\nhttps://docs.snowflake.com/en/developer-guide/snowpark/python/pandas-on-snowflake#using-pandas-on-snowflake-with-snowpark-dataframes\n\n### Snowpark DataFrames vs Snowpark pandas DataFrame: Which should I choose?\nhttps://docs.snowflake.com/en/developer-guide/snowpark/python/working-with-dataframes#snowpark-dataframes-vs-snowpark-pandas-dataframe-which-should-i-choose"
  }
 ]
}